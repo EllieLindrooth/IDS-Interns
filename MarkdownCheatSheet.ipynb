{
 "cells": [
  {
   "cell_type": "raw",
   "metadata": {},
   "source": [
    "Use the number symbol to create different size fonts to make different headings. Make sure to put a space in between the number symbol and the heading name to create a heading. If you use #Heading 1 without the space the number symbol will be printed directly. \n",
    "# Heading 1\n",
    "## Heading 2\n",
    "### Heading 3\n",
    "#### Heading 4\n",
    "##### Heading 5\n",
    "###### Heading 6"
   ]
  },
  {
   "cell_type": "markdown",
   "metadata": {},
   "source": [
    "Use the number symbol to create different size fonts to make different headings. Make sure to put a space in between the number symbol and the heading name to create a heading. If you use #Heading 1 without the space the number symbol will be printed directly. \n",
    "# Heading 1\n",
    "## Heading 2\n",
    "### Heading 3\n",
    "#### Heading 4\n",
    "##### Heading 5\n",
    "###### Heading 6"
   ]
  },
  {
   "cell_type": "raw",
   "metadata": {},
   "source": [
    "To created an ordered list use \"ol\" with the < and > symbols around to start the list. To create a number use \"li\" instead of \"ol\". \n",
    "<ol>\n",
    "<li>Item 1\n",
    "<ol> \n",
    "    <li> Item 1a</li> \n",
    "    <li>Item 1b</li>\n",
    "    </ol>\n",
    "<li>Item 2 \n",
    "    </ol>\n",
    "To finish the list or an item of the list use the forwardslash symbol then either \"li\" to stop the number or \"ol\" to stop the list as a whole. To remember ordered list, remember ol the o for ordered and the l for list. "
   ]
  },
  {
   "cell_type": "markdown",
   "metadata": {},
   "source": [
    "To created an ordered list use \"ol\" with the < and > symbols around to start the list. To create a number use \"li\" instead of \"ol\". \n",
    "<ol>\n",
    "<li>Item 1\n",
    "<ol> \n",
    "    <li> Item 1a</li> \n",
    "    <li>Item 1b</li>\n",
    "    </ol>\n",
    "<li>Item 2 \n",
    "    </ol>\n",
    "To finish the list or an item of the list use the forwardslash then either \"li\" to stop the number or \"ol\" to stop the list as a whole. To remember ordered list, remember ol the o for ordered and the l for list. "
   ]
  },
  {
   "cell_type": "raw",
   "metadata": {},
   "source": [
    "To created an unordered list use \"ul\" with the < and > symbols around to start the list. To create a number use \"li\" instead of \"ul\". \n",
    "<ul>\n",
    "<li>Item 1\n",
    "<ul> \n",
    "    <li> Item 1a</li> \n",
    "    <li>Item 1b</li>\n",
    "    </ul>\n",
    "<li>Item 2\n",
    "    </ul>\n",
    "To finish the list or an item of the list use the forwardslash symbol then either \"li\" to stop the number or \"ul\" to stop the list as a whole. To remember unordered list, remember ul the u for ordered and the l for list. "
   ]
  },
  {
   "cell_type": "markdown",
   "metadata": {},
   "source": [
    "To created an unordered list use \"ul\" with the < and > symbols around to start the list. To create a number use \"li\" instead of \"ul\". \n",
    "<ul>\n",
    "<li>Item 1\n",
    "<ul> \n",
    "    <li> Item 1a</li> \n",
    "    <li>Item 1b</li>\n",
    "    </ul>\n",
    "<li>Item 2\n",
    "    </ul>\n",
    "To finish the list or an item of the list use the forwardslash symbol then either \"li\" to stop the number or \"ul\" to stop the list as a whole. To remember unordered list, remember ul the u for ordered and the l for list. "
   ]
  },
  {
   "cell_type": "raw",
   "metadata": {},
   "source": [
    "To create a break between lines without creating a new cell to add that space use <br> In this case you do not need to include </br> to finish the break. If you use it, it will just create another break. "
   ]
  },
  {
   "cell_type": "markdown",
   "metadata": {},
   "source": [
    "To create a break between lines without creating a new cell to add that space use <br> In this case you do not need to include </br> to finish the break. If you use it, it will just create another break. "
   ]
  },
  {
   "cell_type": "raw",
   "metadata": {},
   "source": [
    "If you want to specify a function or dataset that will be used in your code then you can use the <code>education.csv</code> functions. Again make sure when you want to finish using that type of font end it with /code with the < and > symbols around it if else you will be left with <code> a lot of extra words typesetted in that same way. "
   ]
  },
  {
   "cell_type": "markdown",
   "metadata": {},
   "source": [
    "If you want to specify a function or dataset that will be used in your code then you can use the <code>education.csv</code> functions. Again make sure when you want to finish using that type of font end it with /code with the < and > symbols around it if else you will be left with <code> a lot of extra words typesetted in that same way. "
   ]
  },
  {
   "cell_type": "raw",
   "metadata": {},
   "source": [
    "There are three ways to bold text: with two < b > tags , two astrics, or two underscores. <br>\n",
    "<b> This is bold </b>\n",
    "<br>\n",
    "**This is bold**\n",
    "<br>\n",
    "__This is bold__\n",
    "<br>\n",
    "Note: do not include spaces inbetween the word and the method you choose to bold it (ie when I use two asterics the word I want to bold at the start has no space between the beginning two astrics and the word I want to end in bold also has no space inbetween the closing astrics). "
   ]
  },
  {
   "cell_type": "markdown",
   "metadata": {},
   "source": [
    "There are three ways to bold text: with two < b > tags , two astrics, or two underscores. <br>\n",
    "<b> This is bold </b>\n",
    "<br>\n",
    "**This is bold**\n",
    "<br>\n",
    "__This is bold__\n",
    "<br>\n",
    "Note: do not include spaces inbetween the word and the method you choose to bold it (ie when I use two asterics the word I want to bold at the start has no space between the beginning two astrics and the word I want to end in bold also has no space inbetween the closing astrics). "
   ]
  },
  {
   "cell_type": "raw",
   "metadata": {},
   "source": [
    "To make a word or statement italicised, it is the same as making a word bold but instead of a b it is an i and instead of two asterics or underscores, you only use one. <br>\n",
    "<i> This is italics </i>\n",
    "<br>\n",
    "*This is italics*\n",
    "<br>\n",
    "_This is italics_\n",
    "<br>"
   ]
  },
  {
   "cell_type": "markdown",
   "metadata": {},
   "source": [
    "To make a word or statement italicised, it is the same as making a word bold but instead of a b it is an i and instead of two asterics or underscores, you only use one. <br>\n",
    "<i> This is italics </i>\n",
    "<br>\n",
    "*This is italics*\n",
    "<br>\n",
    "_This is italics_\n",
    "<br>\n"
   ]
  },
  {
   "cell_type": "markdown",
   "metadata": {},
   "source": [
    "To make a chart you need to create a new cell."
   ]
  },
  {
   "cell_type": "raw",
   "metadata": {},
   "source": [
    "| Title 1 | Title 2 | Title 3 |\n",
    "| --- | --- | --- |\n",
    "| Cell 1 | Cell 2 | Cell 3 |\n",
    "| Cell 4 | Cell 5 | Cell 6 |\n"
   ]
  },
  {
   "cell_type": "markdown",
   "metadata": {},
   "source": [
    "| Title 1 | Title 2 | Title 3 |\n",
    "| --- | --- | --- |\n",
    "| Cell 1 | Cell 2 | Cell 3 |\n",
    "| Cell 4 | Cell 5 | Cell 6 |"
   ]
  },
  {
   "cell_type": "markdown",
   "metadata": {},
   "source": [
    "To center align the cells use :-: instead of the three dashes in the second line: "
   ]
  },
  {
   "cell_type": "raw",
   "metadata": {},
   "source": [
    "| Title 1 | Title 2 | Title 3 |\n",
    "| :-: | :-: | :-: |\n",
    "| Cell 1 | Cell 2 | Cell 3 |\n",
    "| Cell 4 | Cell 5 | Cell 6 |\n"
   ]
  },
  {
   "cell_type": "markdown",
   "metadata": {},
   "source": [
    "| Title 1 | Title 2 | Title 3 |\n",
    "| :-: | :-: | :-: |\n",
    "| Cell 1 | Cell 2 | Cell 3 |\n",
    "| Cell 4 | Cell 5 | Cell 6 |"
   ]
  },
  {
   "cell_type": "raw",
   "metadata": {},
   "source": [
    "To use math symbols surround the text with dollar signs:\n",
    "<br>\n",
    "$2+2 = 4$\n",
    "<br>\n",
    "$x^2$\n",
    "<br>\n",
    "$x_i$\n",
    "<br>\n",
    "To square a number use ^ and to make a subscript use _. Also if you need to have \"x to the 23rd\", use brackets around 23, you can't leave them out:\n",
    "<br>\n",
    "$x^23$\n",
    "<br> versus with brackets: <br>\n",
    "$x^{23}$\n",
    "<br>\n",
    "Same goes with subscripts:\n",
    "<br>\n",
    "$x_ij$ <br>\n",
    "versus with brackets:\n",
    "<br>\n",
    "$x_{ij}$"
   ]
  },
  {
   "cell_type": "markdown",
   "metadata": {},
   "source": [
    "To use math symbols surround the text with dollar signs:\n",
    "<br>\n",
    "$2+2 = 4$\n",
    "<br>\n",
    "$x^2$\n",
    "<br>\n",
    "$x_i$\n",
    "<br>\n",
    "To square a number use ^ and to make a subscript use _. Also if you need to have \"x to the 23rd\", use brackets around 23, you can't leave them out:\n",
    "<br>\n",
    "$x^23$\n",
    "<br> versus with brackets: <br>\n",
    "$x^{23}$\n",
    "<br>\n",
    "Same goes with subscripts:\n",
    "<br>\n",
    "$x_ij$ <br>\n",
    "versus with brackets:\n",
    "<br>\n",
    "$x_{ij}$"
   ]
  },
  {
   "cell_type": "code",
   "execution_count": null,
   "metadata": {},
   "outputs": [],
   "source": []
  }
 ],
 "metadata": {
  "kernelspec": {
   "display_name": "R",
   "language": "R",
   "name": "ir"
  },
  "language_info": {
   "codemirror_mode": "r",
   "file_extension": ".r",
   "mimetype": "text/x-r-source",
   "name": "R",
   "pygments_lexer": "r",
   "version": "4.0.3"
  }
 },
 "nbformat": 4,
 "nbformat_minor": 4
}
